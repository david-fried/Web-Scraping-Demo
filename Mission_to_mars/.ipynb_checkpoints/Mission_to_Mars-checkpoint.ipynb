{
 "cells": [
  {
   "cell_type": "code",
   "execution_count": 1,
   "metadata": {},
   "outputs": [],
   "source": [
    "from splinter import Browser\n",
    "from bs4 import BeautifulSoup as bs\n",
    "import time\n",
    "import pandas as pd"
   ]
  },
  {
   "cell_type": "code",
   "execution_count": 2,
   "metadata": {},
   "outputs": [],
   "source": [
    "executable_path = {\"executable_path\": \"chromedriver.exe\"}\n",
    "b = Browser(\"chrome\", **executable_path, headless=False)"
   ]
  },
  {
   "cell_type": "code",
   "execution_count": 3,
   "metadata": {},
   "outputs": [
    {
     "name": "stdout",
     "output_type": "stream",
     "text": [
      "Latest title: NASA Engineers Checking InSight's Weather Sensors\n",
      "Latest paragraph: An electronics issue is suspected to be preventing the sensors from sharing their data about Mars weather with the spacecraft.\n"
     ]
    }
   ],
   "source": [
    "# Latest News Title and Paragraph\n",
    "\n",
    "mars_data = {}\n",
    "\n",
    "news_url = \"https://mars.nasa.gov/news\"\n",
    "\n",
    "b.visit(news_url)\n",
    "\n",
    "time.sleep(5)\n",
    "\n",
    "html = b.html\n",
    "soup = bs(html, \"html.parser\")\n",
    "\n",
    "a = soup.find('div', class_=\"list_text\")\n",
    "\n",
    "# Return the latest news title\n",
    "t = a.find('div', class_=\"content_title\").text\n",
    "\n",
    "# Get the news paragraph\n",
    "p = a.find('div', class_=\"article_teaser_body\").text\n",
    "\n",
    "print(f'Latest title: {t}')\n",
    "print(f'Latest paragraph: {p}')"
   ]
  },
  {
   "cell_type": "code",
   "execution_count": 4,
   "metadata": {},
   "outputs": [
    {
     "name": "stdout",
     "output_type": "stream",
     "text": [
      "Featured image: https://jpl.nasa.gov/spaceimages/images/wallpaper/PIA24039-640x350.jpg\n"
     ]
    }
   ],
   "source": [
    "# Featured Image\n",
    "\n",
    "img_url = \"https://www.jpl.nasa.gov/spaceimages/?search=&category=Mars\"\n",
    "\n",
    "b.visit(img_url)\n",
    "\n",
    "time.sleep(5)\n",
    "\n",
    "html = b.html\n",
    "\n",
    "soup = bs(html, 'html.parser')\n",
    "\n",
    "img = soup.find('img', class_=\"thumb\")[\"src\"]\n",
    "\n",
    "featured_img = \"https://jpl.nasa.gov\"+ img\n",
    "\n",
    "print(f'Featured image: {featured_img}')"
   ]
  },
  {
   "cell_type": "code",
   "execution_count": 5,
   "metadata": {},
   "outputs": [
    {
     "data": {
      "text/plain": [
       "'<table border=\"1\" class=\"dataframe\">   <thead>     <tr style=\"text-align: right;\">       <th></th>       <th>0</th>       <th>1</th>     </tr>   </thead>   <tbody>     <tr>       <th>0</th>       <td>Equatorial Diameter:</td>       <td>6,792 km</td>     </tr>     <tr>       <th>1</th>       <td>Polar Diameter:</td>       <td>6,752 km</td>     </tr>     <tr>       <th>2</th>       <td>Mass:</td>       <td>6.39 × 10^23 kg (0.11 Earths)</td>     </tr>     <tr>       <th>3</th>       <td>Moons:</td>       <td>2 (Phobos &amp; Deimos)</td>     </tr>     <tr>       <th>4</th>       <td>Orbit Distance:</td>       <td>227,943,824 km (1.38 AU)</td>     </tr>     <tr>       <th>5</th>       <td>Orbit Period:</td>       <td>687 days (1.9 years)</td>     </tr>     <tr>       <th>6</th>       <td>Surface Temperature:</td>       <td>-87 to -5 °C</td>     </tr>     <tr>       <th>7</th>       <td>First Record:</td>       <td>2nd millennium BC</td>     </tr>     <tr>       <th>8</th>       <td>Recorded By:</td>       <td>Egyptian astronomers</td>     </tr>   </tbody> </table>'"
      ]
     },
     "execution_count": 5,
     "metadata": {},
     "output_type": "execute_result"
    }
   ],
   "source": [
    "# Mars Facts HTML Table\n",
    "\n",
    "facts_url = \"https://space-facts.com/mars/\"\n",
    "\n",
    "b.visit(facts_url)\n",
    "\n",
    "time.sleep(5)\n",
    "\n",
    "df = pd.read_html(facts_url)[0]\n",
    "\n",
    "html_table = df.to_html()\n",
    "html_table = html_table.replace('\\n',' ')\n",
    "html_table"
   ]
  },
  {
   "cell_type": "code",
   "execution_count": 6,
   "metadata": {},
   "outputs": [
    {
     "name": "stdout",
     "output_type": "stream",
     "text": [
      "https://astrogeology.usgs.gov/search/map/Mars/Viking/cerberus_enhanced\n",
      "https://astrogeology.usgs.gov/search/map/Mars/Viking/schiaparelli_enhanced\n",
      "https://astrogeology.usgs.gov/search/map/Mars/Viking/syrtis_major_enhanced\n",
      "https://astrogeology.usgs.gov/search/map/Mars/Viking/valles_marineris_enhanced\n"
     ]
    }
   ],
   "source": [
    "# Hemisphere Image Urls\n",
    "\n",
    "h_url = \"https://astrogeology.usgs.gov/search/results?q=hemisphere+enhanced&k1=target&v1=Mars\"\n",
    "\n",
    "b.visit(h_url)\n",
    "\n",
    "time.sleep(5)\n",
    "\n",
    "html_hemispheres = b.html\n",
    "\n",
    "soup = bs(html_hemispheres, 'html.parser')\n",
    "\n",
    "items = soup.find_all('div', class_='item')\n",
    "\n",
    "hemisphere_image_urls = []\n",
    "\n",
    "#   Store the main_ul \n",
    "hemispheres_main_url = 'https://astrogeology.usgs.gov'\n",
    "# Loop through the items previously stored\n",
    "for item in items: \n",
    "    title = item.find('h3').text\n",
    "    partial_img_url = item.find('a', class_='itemLink product-item')['href']\n",
    "    url = hemispheres_main_url + partial_img_url\n",
    "    print(url)\n",
    "    b.visit(url)\n",
    "    partial_img_html = b.html\n",
    "    soup = bs( partial_img_html, 'html.parser')\n",
    "    img_url = hemispheres_main_url + soup.find('img', class_='wide-image')['src']\n",
    "    hemisphere_image_urls.append({\"title\" : title, \"img_url\" : img_url})"
   ]
  }
 ],
 "metadata": {
  "kernelspec": {
   "display_name": "Python 3",
   "language": "python",
   "name": "python3"
  },
  "language_info": {
   "codemirror_mode": {
    "name": "ipython",
    "version": 3
   },
   "file_extension": ".py",
   "mimetype": "text/x-python",
   "name": "python",
   "nbconvert_exporter": "python",
   "pygments_lexer": "ipython3",
   "version": "3.7.6"
  }
 },
 "nbformat": 4,
 "nbformat_minor": 4
}
